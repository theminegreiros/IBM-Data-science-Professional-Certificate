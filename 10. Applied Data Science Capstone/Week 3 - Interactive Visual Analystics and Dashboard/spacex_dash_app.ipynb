{
 "cells": [
  {
   "cell_type": "code",
   "execution_count": 1,
   "metadata": {},
   "outputs": [
    {
     "name": "stdout",
     "output_type": "stream",
     "text": [
      "Requirement already satisfied: pandas in c:\\users\\themi\\anaconda3\\lib\\site-packages (1.4.4)\n",
      "Collecting dash\n",
      "  Using cached dash-2.7.1-py3-none-any.whl (9.9 MB)\n",
      "Requirement already satisfied: python-dateutil>=2.8.1 in c:\\users\\themi\\anaconda3\\lib\\site-packages (from pandas) (2.8.2)\n",
      "Requirement already satisfied: pytz>=2020.1 in c:\\users\\themi\\anaconda3\\lib\\site-packages (from pandas) (2022.1)\n",
      "Requirement already satisfied: numpy>=1.18.5 in c:\\users\\themi\\anaconda3\\lib\\site-packages (from pandas) (1.21.5)\n",
      "Requirement already satisfied: plotly>=5.0.0 in c:\\users\\themi\\anaconda3\\lib\\site-packages (from dash) (5.9.0)\n",
      "Collecting dash-core-components==2.0.0\n",
      "  Using cached dash_core_components-2.0.0-py3-none-any.whl (3.8 kB)\n",
      "Requirement already satisfied: Flask>=1.0.4 in c:\\users\\themi\\anaconda3\\lib\\site-packages (from dash) (1.1.2)\n",
      "Collecting dash-table==5.0.0\n",
      "  Using cached dash_table-5.0.0-py3-none-any.whl (3.9 kB)\n",
      "Collecting dash-html-components==2.0.0\n",
      "  Using cached dash_html_components-2.0.0-py3-none-any.whl (4.1 kB)\n",
      "Requirement already satisfied: click>=5.1 in c:\\users\\themi\\anaconda3\\lib\\site-packages (from Flask>=1.0.4->dash) (8.0.4)\n",
      "Requirement already satisfied: Jinja2>=2.10.1 in c:\\users\\themi\\anaconda3\\lib\\site-packages (from Flask>=1.0.4->dash) (2.11.3)\n",
      "Requirement already satisfied: itsdangerous>=0.24 in c:\\users\\themi\\anaconda3\\lib\\site-packages (from Flask>=1.0.4->dash) (2.0.1)\n",
      "Requirement already satisfied: Werkzeug>=0.15 in c:\\users\\themi\\anaconda3\\lib\\site-packages (from Flask>=1.0.4->dash) (2.0.3)\n",
      "Requirement already satisfied: tenacity>=6.2.0 in c:\\users\\themi\\anaconda3\\lib\\site-packages (from plotly>=5.0.0->dash) (8.0.1)\n",
      "Requirement already satisfied: six>=1.5 in c:\\users\\themi\\anaconda3\\lib\\site-packages (from python-dateutil>=2.8.1->pandas) (1.16.0)\n",
      "Requirement already satisfied: colorama in c:\\users\\themi\\anaconda3\\lib\\site-packages (from click>=5.1->Flask>=1.0.4->dash) (0.4.5)\n",
      "Requirement already satisfied: MarkupSafe>=0.23 in c:\\users\\themi\\anaconda3\\lib\\site-packages (from Jinja2>=2.10.1->Flask>=1.0.4->dash) (2.0.1)\n",
      "Installing collected packages: dash-table, dash-html-components, dash-core-components, dash\n",
      "Successfully installed dash-2.7.1 dash-core-components-2.0.0 dash-html-components-2.0.0 dash-table-5.0.0\n"
     ]
    }
   ],
   "source": [
    "! pip install pandas dash"
   ]
  },
  {
   "cell_type": "code",
   "execution_count": 2,
   "metadata": {},
   "outputs": [
    {
     "name": "stderr",
     "output_type": "stream",
     "text": [
      "'wget' nÆo ‚ reconhecido como um comando interno\n",
      "ou externo, um programa oper vel ou um arquivo em lotes.\n"
     ]
    }
   ],
   "source": [
    "#! wget \"https://cf-courses-data.s3.us.cloud-object-storage.appdomain.cloud/IBM-DS0321EN-SkillsNetwork/datasets/spacex_launch_dash.csv\""
   ]
  },
  {
   "cell_type": "code",
   "execution_count": 3,
   "metadata": {},
   "outputs": [
    {
     "name": "stdout",
     "output_type": "stream",
     "text": [
      "Collecting wget\n",
      "  Using cached wget-3.2.zip (10 kB)\n",
      "  Preparing metadata (setup.py): started\n",
      "  Preparing metadata (setup.py): finished with status 'done'\n",
      "Building wheels for collected packages: wget\n",
      "  Building wheel for wget (setup.py): started\n",
      "  Building wheel for wget (setup.py): finished with status 'done'\n",
      "  Created wheel for wget: filename=wget-3.2-py3-none-any.whl size=9657 sha256=a47cd1e5c553833201edd87428bac2e4844fc312a776f2c5214eb12f6521e3b1\n",
      "  Stored in directory: c:\\users\\themi\\appdata\\local\\pip\\cache\\wheels\\04\\5f\\3e\\46cc37c5d698415694d83f607f833f83f0149e49b3af9d0f38\n",
      "Successfully built wget\n",
      "Installing collected packages: wget\n",
      "Successfully installed wget-3.2\n"
     ]
    }
   ],
   "source": [
    "! pip install wget"
   ]
  },
  {
   "cell_type": "code",
   "execution_count": 4,
   "metadata": {},
   "outputs": [
    {
     "name": "stdout",
     "output_type": "stream",
     "text": [
      "\r",
      "  0% [                                                                                ]    0 / 2476\r",
      "100% [................................................................................] 2476 / 2476"
     ]
    },
    {
     "data": {
      "text/plain": [
       "'spacex_launch_dash (1).csv'"
      ]
     },
     "execution_count": 4,
     "metadata": {},
     "output_type": "execute_result"
    }
   ],
   "source": [
    "import wget\n",
    "wget.download('https://cf-courses-data.s3.us.cloud-object-storage.appdomain.cloud/IBM-DS0321EN-SkillsNetwork/datasets/spacex_launch_dash.csv', 'spacex_launch_dash.csv')"
   ]
  },
  {
   "cell_type": "code",
   "execution_count": 4,
   "metadata": {},
   "outputs": [
    {
     "name": "stderr",
     "output_type": "stream",
     "text": [
      "C:\\Users\\Themi\\AppData\\Local\\Temp\\ipykernel_13640\\1331745971.py:4: UserWarning: \n",
      "The dash_html_components package is deprecated. Please replace\n",
      "`import dash_html_components as html` with `from dash import html`\n",
      "  import dash_html_components as html\n",
      "C:\\Users\\Themi\\AppData\\Local\\Temp\\ipykernel_13640\\1331745971.py:5: UserWarning: \n",
      "The dash_core_components package is deprecated. Please replace\n",
      "`import dash_core_components as dcc` with `from dash import dcc`\n",
      "  import dash_core_components as dcc\n"
     ]
    },
    {
     "name": "stdout",
     "output_type": "stream",
     "text": [
      "Dash is running on http://127.0.0.1:8050/\n",
      "\n",
      " * Serving Flask app \"__main__\" (lazy loading)\n",
      " * Environment: production\n",
      "\u001b[31m   WARNING: This is a development server. Do not use it in a production deployment.\u001b[0m\n",
      "\u001b[2m   Use a production WSGI server instead.\u001b[0m\n",
      " * Debug mode: off\n"
     ]
    },
    {
     "name": "stderr",
     "output_type": "stream",
     "text": [
      " * Running on http://127.0.0.1:8050/ (Press CTRL+C to quit)\n",
      "127.0.0.1 - - [23/Dec/2022 14:19:40] \"GET / HTTP/1.1\" 200 -\n",
      "127.0.0.1 - - [23/Dec/2022 14:19:40] \"GET /_dash-component-suites/dash/deps/polyfill@7.v2_7_1m1671815774.12.1.min.js HTTP/1.1\" 200 -\n",
      "127.0.0.1 - - [23/Dec/2022 14:19:40] \"GET /_dash-component-suites/dash/deps/react@16.v2_7_1m1671815774.14.0.min.js HTTP/1.1\" 200 -\n",
      "127.0.0.1 - - [23/Dec/2022 14:19:40] \"GET /_dash-component-suites/dash/deps/react-dom@16.v2_7_1m1671815774.14.0.min.js HTTP/1.1\" 200 -\n",
      "127.0.0.1 - - [23/Dec/2022 14:19:40] \"GET /_dash-component-suites/dash/dash-renderer/build/dash_renderer.v2_7_1m1671815774.min.js HTTP/1.1\" 200 -\n",
      "127.0.0.1 - - [23/Dec/2022 14:19:40] \"GET /_dash-component-suites/dash/deps/prop-types@15.v2_7_1m1671815774.8.1.min.js HTTP/1.1\" 200 -\n",
      "127.0.0.1 - - [23/Dec/2022 14:19:40] \"GET /_dash-component-suites/dash/dcc/dash_core_components.v2_7_1m1671815774.js HTTP/1.1\" 200 -\n",
      "127.0.0.1 - - [23/Dec/2022 14:19:40] \"GET /_dash-component-suites/dash/dcc/dash_core_components-shared.v2_7_1m1671815774.js HTTP/1.1\" 200 -\n",
      "127.0.0.1 - - [23/Dec/2022 14:19:40] \"GET /_dash-component-suites/dash/html/dash_html_components.v2_0_7m1671815774.min.js HTTP/1.1\" 200 -\n",
      "127.0.0.1 - - [23/Dec/2022 14:19:40] \"GET /_dash-component-suites/dash/dash_table/bundle.v5_2_1m1671815774.js HTTP/1.1\" 200 -\n",
      "127.0.0.1 - - [23/Dec/2022 14:19:40] \"GET /_dash-layout HTTP/1.1\" 200 -\n",
      "127.0.0.1 - - [23/Dec/2022 14:19:40] \"GET /_dash-dependencies HTTP/1.1\" 200 -\n",
      "127.0.0.1 - - [23/Dec/2022 14:19:40] \"GET /_favicon.ico?v=2.7.1 HTTP/1.1\" 200 -\n",
      "127.0.0.1 - - [23/Dec/2022 14:19:40] \"GET /_dash-component-suites/dash/dcc/async-dropdown.js HTTP/1.1\" 200 -\n",
      "127.0.0.1 - - [23/Dec/2022 14:19:41] \"GET /_dash-component-suites/dash/dcc/async-graph.js HTTP/1.1\" 200 -\n",
      "127.0.0.1 - - [23/Dec/2022 14:19:41] \"GET /_dash-component-suites/dash/dcc/async-slider.js HTTP/1.1\" 200 -\n",
      "127.0.0.1 - - [23/Dec/2022 14:19:41] \"GET /_dash-component-suites/dash/dcc/async-plotlyjs.js HTTP/1.1\" 200 -\n",
      "127.0.0.1 - - [23/Dec/2022 14:19:42] \"POST /_dash-update-component HTTP/1.1\" 200 -\n",
      "127.0.0.1 - - [23/Dec/2022 14:19:42] \"POST /_dash-update-component HTTP/1.1\" 200 -\n"
     ]
    }
   ],
   "source": [
    "# Import required libraries\n",
    "import pandas as pd\n",
    "import dash\n",
    "import dash_html_components as html\n",
    "import dash_core_components as dcc\n",
    "from dash.dependencies import Input, Output\n",
    "import plotly.express as px\n",
    "\n",
    "# Read the airline data into pandas dataframe\n",
    "spacex_df = pd.read_csv(\"spacex_launch_dash.csv\")\n",
    "max_payload = spacex_df['Payload Mass (kg)'].max()\n",
    "min_payload = spacex_df['Payload Mass (kg)'].min()\n",
    "\n",
    "# Create a dash application\n",
    "app = dash.Dash(__name__)\n",
    "\n",
    "#Get the launch sites from the spacex_df dataframe to use in the dropdown list\n",
    "#launch_sites = []\n",
    "#launch_sites.append({'label': 'All Sites', 'value': 'All Sites'})\n",
    "#for launch_site in spacex_df['Launch Site'].unique().tolist():\n",
    "    #launch_sites.append({'label': launch_site, 'value': launch_site})\n",
    "   # print(launch_site)\n",
    "\n",
    "#Get the launch sites from the spacex_df dataframe to use in the dropdown list\n",
    "launch_sites = []\n",
    "launch_sites.append({'label': 'All Sites', 'value': 'All Sites'})\n",
    "for launch_site in spacex_df['Launch Site'].unique().tolist():\n",
    "    launch_sites.append({'label': launch_site, 'value': launch_site})\n",
    "\n",
    "# Create an app layout\n",
    "app.layout = html.Div(children=[html.H1('SpaceX Launch Records Dashboard',\n",
    "                                        style={'textAlign': 'center', 'color': '#503D36',\n",
    "                                               'font-size': 40}),\n",
    "                                # TASK 1: Add a dropdown list to enable Launch Site selection\n",
    "                                # The default select value is for ALL sites\n",
    "                                dcc.Dropdown(id='site-dropdown',\n",
    "                                            options = launch_sites,\n",
    "                                            value='All Sites',\n",
    "                                            placeholder=\"Launch Site\",\n",
    "                                            searchable=True\n",
    "                                            ),\n",
    "\n",
    "                                html.Br(),\n",
    "\n",
    "                                # TASK 2: Add a pie chart to show the total successful launches count for all sites\n",
    "                                # If a specific launch site was selected, show the Success vs. Failed counts for the site\n",
    "                                html.Div(dcc.Graph(id='success-pie-chart')),\n",
    "                                html.Br(),\n",
    "\n",
    "                                html.P(\"Payload range (Kg):\"),\n",
    "                                # TASK 3: Add a slider to select payload range\n",
    "                                dcc.RangeSlider(id='payload-slider',\n",
    "                                                min=0, max=10000, step=1000,\n",
    "                                                marks={0: '0', 2500: '2500', 5000: '5000', 7500: '7500', 10000: '10000'},\n",
    "                                                value=[min_payload, max_payload]),\n",
    "\n",
    "\n",
    "                                # TASK 4: Add a scatter chart to show the correlation between payload and launch success\n",
    "                                html.Div(dcc.Graph(id='success-payload-scatter-chart')),\n",
    "                                ])\n",
    "\n",
    "# TASK 2:\n",
    "# Add a callback function for `site-dropdown` as input, `success-pie-chart` as output\n",
    "@app.callback(Output(component_id='success-pie-chart', component_property='figure'),\n",
    "            Input(component_id='site-dropdown', component_property='value'))\n",
    "\n",
    "def get_pie_chart(entered_site):\n",
    "    filtered_df = spacex_df[spacex_df['Launch Site'] == entered_site]\n",
    "    if entered_site == 'All Sites':\n",
    "        fig = px.pie(spacex_df, values='class', names='Launch Site', title='Total Success Launches by Site')\n",
    "        return fig\n",
    "    else:\n",
    "        # return the outcomes pie chart for a selected site\n",
    "        site_df = filtered_df.groupby(['Launch Site', 'class']).size().reset_index(name='class count')\n",
    "        fig = px.pie(site_df,values='class count',names='class',title=f'Total Success Launches for site {entered_site}')\n",
    "        return fig\n",
    "\n",
    "# TASK 4:\n",
    "# Add a callback function for `site-dropdown` and `payload-slider` as inputs, `success-payload-scatter-chart` as output\n",
    "@app.callback(Output(component_id='success-payload-scatter-chart', component_property='figure'),\n",
    "            [Input(component_id='site-dropdown', component_property='value'), Input(component_id='payload-slider', component_property='value')])\n",
    "\n",
    "def get_scatter_chart(entered_site, payload_slider):\n",
    "    low, high = payload_slider\n",
    "    slide=(spacex_df['Payload Mass (kg)'] > low) & (spacex_df['Payload Mass (kg)'] < high)\n",
    "    dropdown_scatter=spacex_df[slide]\n",
    "\n",
    "    #If All sites are selected, render a scatter plot to display all values for variables Payload Mass (kg) and class.\n",
    "    #Point colour is set to the booster version category\n",
    "    if entered_site == 'All Sites':\n",
    "        fig = px.scatter(\n",
    "            dropdown_scatter, x='Payload Mass (kg)', y='class',\n",
    "            hover_data=['Booster Version'],\n",
    "            color='Booster Version Category',\n",
    "            title='Correlation between Payload and Success for all Sites')\n",
    "        return fig\n",
    "    else:\n",
    "    #If a specific site is selected, filter the spacex_df dataframe first, then render a scatter plot to display the same as for all sites.\n",
    "        dropdown_scatter = dropdown_scatter[spacex_df['Launch Site'] == entered_site]\n",
    "        fig=px.scatter(\n",
    "            dropdown_scatter,x='Payload Mass (kg)', y='class',\n",
    "            hover_data=['Booster Version'],\n",
    "            color='Booster Version Category',\n",
    "            title = f'Success by Payload Size for site {entered_site}')\n",
    "        return fig\n",
    "\n",
    "# Run the app\n",
    "if __name__ == '__main__':\n",
    "    app.run_server()"
   ]
  }
 ],
 "metadata": {
  "kernelspec": {
   "display_name": "Python 3 (ipykernel)",
   "language": "python",
   "name": "python3"
  },
  "language_info": {
   "codemirror_mode": {
    "name": "ipython",
    "version": 3
   },
   "file_extension": ".py",
   "mimetype": "text/x-python",
   "name": "python",
   "nbconvert_exporter": "python",
   "pygments_lexer": "ipython3",
   "version": "3.9.13"
  }
 },
 "nbformat": 4,
 "nbformat_minor": 4
}
